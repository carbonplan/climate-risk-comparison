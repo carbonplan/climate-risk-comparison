{
 "cells": [
  {
   "cell_type": "code",
   "execution_count": null,
   "id": "77b7cb76-821a-4dd9-baf3-c176ab244adb",
   "metadata": {
    "tags": []
   },
   "outputs": [],
   "source": [
    "!pip install geodatasets\n",
    "import xarray as xr\n",
    "import rioxarray\n",
    "import pandas as pd\n",
    "import geopandas as gpd\n",
    "import matplotlib.pyplot as plt\n",
    "import dask\n",
    "import numpy as np\n",
    "from dask.distributed import Client\n",
    "from matplotlib import colors\n",
    "from matplotlib.colors import LinearSegmentedColormap, ListedColormap\n",
    "import geodatasets\n",
    "from shapely.ops import nearest_points\n",
    "import pygmt\n",
    "\n",
    "pd.set_option('display.max_rows', 140)"
   ]
  },
  {
   "cell_type": "code",
   "execution_count": null,
   "id": "44e7047a-9338-45cf-be99-dd3e51ae75d9",
   "metadata": {},
   "outputs": [],
   "source": [
    "def add_variable_to_gdf(gdf, da, lon360=False):\n",
    "    gdf_locations = gdf.get_coordinates()\n",
    "    y = xr.DataArray(gdf_locations['y'].values, dims=['locations'])\n",
    "    x = xr.DataArray(gdf_locations['x'].values, dims=['locations'])\n",
    "    if lon360:\n",
    "        data = da.sel(lon=x+360, lat=y, method='nearest').load()\n",
    "    else:\n",
    "        data = da.sel(x=x, y=y, method='nearest').load()\n",
    "    return data.values"
   ]
  },
  {
   "cell_type": "markdown",
   "id": "f6a20c58-b4cd-46c0-8d6e-f07343f3fedf",
   "metadata": {},
   "source": [
    "# Post offices in California"
   ]
  },
  {
   "cell_type": "code",
   "execution_count": null,
   "id": "7e0b1422-f575-4556-b234-ecbe5622506f",
   "metadata": {},
   "outputs": [],
   "source": [
    "# state boundary accessed at https://www.census.gov/geographies/mapping-files/time-series/geo/carto-boundary-file.html\n",
    "states = gpd.read_file('s3://carbonplan-climate-impacts/climate-risk-comparison/location-selection/cb_2018_us_state_5m.shp')"
   ]
  },
  {
   "cell_type": "code",
   "execution_count": null,
   "id": "9f4244e9-62f1-44b7-bb4a-d0901751c45c",
   "metadata": {
    "tags": []
   },
   "outputs": [],
   "source": [
    "# Load in wildfire risk to communities dataset from USFS\n",
    "make_zarr = False\n",
    "usfs_variables = ['RPS', 'CRPS', 'WHP', 'BP', 'Exposure']\n",
    "if make_zarr:\n",
    "    ds = xr.Dataset()\n",
    "    for var in usfs_variables:\n",
    "        ds[var] = rioxarray.open_rasterio(f's3://carbonplan-climate-impacts/climate-risk-comparison/location-selection/{var}_CA.tif').load()\n",
    "    ds = ds.chunk({'x': 4000, 'y': 8000})\n",
    "    ds.to_zarr('s3://carbonplan-climate-impacts/climate-risk-comparison/location-selection/CA.zarr', mode='w', consolidated=True)\n",
    "else:\n",
    "    ds = xr.open_zarr('s3://carbonplan-climate-impacts/climate-risk-comparison/location-selection/CA.zarr')"
   ]
  },
  {
   "cell_type": "code",
   "execution_count": null,
   "id": "24521ab6-8c3d-4868-843b-a520a7c0dab5",
   "metadata": {
    "tags": []
   },
   "outputs": [],
   "source": [
    "xticks = [0.0001000,0.0002154,0.0004642,0.0010000\n",
    "            ,0.0021544,0.0046416,0.0100000\n",
    "            ,0.0215443,0.0464159,0.1300000]\n",
    "cmap = ListedColormap([\"#FFF0CF\",\"#FDDCAF\",\"#FDCA94\",\"#FDB27B\",\"#FC8D59\",\n",
    "                       \"#F26D4B\",\"#E1452F\",\"#C91D13\",\"#A90000\",\"#7F0000\"])\n",
    "norm = colors.BoundaryNorm(xticks, cmap.N)"
   ]
  },
  {
   "cell_type": "code",
   "execution_count": null,
   "id": "32e0e170-32dc-4b9a-a70b-1444794afc92",
   "metadata": {
    "tags": []
   },
   "outputs": [],
   "source": [
    "# Read structures from https://www.sciencebase.gov/catalog/item/59faad6be4b0531197affc83 accessed 11/16/2023\n",
    "structures = gpd.read_file('s3://carbonplan-climate-impacts/climate-risk-comparison/location-selection/structures/ca/Struct_Point.shp')"
   ]
  },
  {
   "cell_type": "code",
   "execution_count": null,
   "id": "769e104a-39ed-4c53-bffd-894a4ae3e589",
   "metadata": {
    "tags": []
   },
   "outputs": [],
   "source": [
    "po = structures[structures['name'].str.contains('Post Office')]\n",
    "po['Exposure'] = add_variable_to_gdf(po.to_crs('epsg:5070'), ds['Exposure'])[0]\n",
    "po['WHP'] = add_variable_to_gdf(po.to_crs('epsg:5070'), ds['WHP'])[0]\n",
    "po['BP'] = add_variable_to_gdf(po.to_crs('epsg:5070'), ds['BP'])[0]"
   ]
  },
  {
   "cell_type": "code",
   "execution_count": null,
   "id": "53ea170f-1091-4ba0-91e6-c8d63afa4755",
   "metadata": {
    "tags": []
   },
   "outputs": [],
   "source": [
    "len(po)"
   ]
  },
  {
   "cell_type": "code",
   "execution_count": null,
   "id": "6f441dc1-9c2a-4e40-b11b-1906187594c5",
   "metadata": {
    "tags": []
   },
   "outputs": [],
   "source": [
    "fig, axarr = plt.subplots()\n",
    "states[states['NAME']=='California'].plot(ax=axarr, color='k', zorder=-10)\n",
    "po[po['Exposure']==1].sort_values('BP').plot(ax=axarr, column='BP', legend=True, \n",
    "                                             vmin=0, markersize=5, cmap=cmap, norm=norm)"
   ]
  },
  {
   "cell_type": "code",
   "execution_count": null,
   "id": "3d3ba027-2f72-44cd-84a4-8355f5e23d25",
   "metadata": {},
   "outputs": [],
   "source": [
    "requested_post_offices = po[po['Exposure']==1]"
   ]
  },
  {
   "cell_type": "code",
   "execution_count": null,
   "id": "707bfd4e-8d54-4dfb-a366-bc639267c06e",
   "metadata": {},
   "outputs": [],
   "source": [
    "request_info = requested_post_offices[['address', 'city', 'state', 'zipcode']]\n",
    "request_info['latitude'] = requested_post_offices.geometry.y\n",
    "request_info['longitude'] = requested_post_offices.geometry.x\n",
    "\n",
    "request_info.columns = request_info.columns.str.upper()\n",
    "request_info['ADDRESS'] = request_info['ADDRESS'].str.upper()\n",
    "request_info['CITY'] = request_info['CITY'].str.upper()\n",
    "request_info.reset_index(drop=True).to_csv('ca-fire.csv')"
   ]
  },
  {
   "cell_type": "markdown",
   "id": "3468c175-71c0-4506-a919-4cff31827189",
   "metadata": {},
   "source": [
    "# Post offices in New York"
   ]
  },
  {
   "cell_type": "code",
   "execution_count": null,
   "id": "872f98dc-75f9-4672-a600-d9dbbc077b37",
   "metadata": {
    "tags": []
   },
   "outputs": [],
   "source": [
    "# Read structures from https://www.sciencebase.gov/catalog/item/59faad6be4b0531197affc83 accessed 11/16/2023\n",
    "structures = gpd.read_file('s3://carbonplan-climate-impacts/climate-risk-comparison/location-selection/structures/ny/Struct_Point.shp')"
   ]
  },
  {
   "cell_type": "code",
   "execution_count": null,
   "id": "f0d51500-5459-4b08-88a5-6593147deeb1",
   "metadata": {
    "tags": []
   },
   "outputs": [],
   "source": [
    "ny_state = states[states['NAME']=='New York']"
   ]
  },
  {
   "cell_type": "code",
   "execution_count": null,
   "id": "ac15eac3-b8d0-49e6-9eff-5c5ba37ae574",
   "metadata": {
    "tags": []
   },
   "outputs": [],
   "source": [
    "po = structures[structures['name'].str.contains('Post Office')]"
   ]
  },
  {
   "cell_type": "code",
   "execution_count": null,
   "id": "d245d6a8-69ac-4592-8be7-5560295caadc",
   "metadata": {
    "tags": []
   },
   "outputs": [],
   "source": [
    "# Accessed at https://www2.census.gov/geo/tiger/TIGER2023/COUNTY/\n",
    "ny_counties = gpd.read_file('s3://carbonplan-climate-impacts/climate-risk-comparison/location-selection/tl_2023_us_county/tl_2023_us_county.shp')"
   ]
  },
  {
   "cell_type": "code",
   "execution_count": null,
   "id": "b6de9341-4cfc-4497-8745-5f985ec242f7",
   "metadata": {
    "tags": []
   },
   "outputs": [],
   "source": [
    "ny_counties = ny_counties[ny_counties['STATEFP']=='36']"
   ]
  },
  {
   "cell_type": "code",
   "execution_count": null,
   "id": "29614aeb-ad0d-4ca4-9478-d956752f069d",
   "metadata": {
    "tags": []
   },
   "outputs": [],
   "source": [
    "post_office_counties = gpd.sjoin(po[['address', 'city', 'state', 'zipcode', 'geometry']], \n",
    "          ny_counties, \n",
    "          how='left', \n",
    "          predicate='intersects')"
   ]
  },
  {
   "cell_type": "code",
   "execution_count": null,
   "id": "a83e57be-01a4-47a8-9bb7-82bb363be9ba",
   "metadata": {
    "tags": []
   },
   "outputs": [],
   "source": [
    "requested_ny = pd.DataFrame()\n",
    "for county_code in ny_counties['COUNTYFP'].values:\n",
    "    requested_ny = pd.concat([requested_ny, \n",
    "                                        post_office_counties[post_office_counties['COUNTYFP']==county_code].sample(n=2, random_state=1)])"
   ]
  },
  {
   "cell_type": "code",
   "execution_count": null,
   "id": "b8528c93-f81f-45b2-862d-a15abfc779a7",
   "metadata": {
    "tags": []
   },
   "outputs": [],
   "source": [
    "request_info_ny = requested_ny[['address', 'city', 'state', 'zipcode']]\n",
    "request_info_ny['latitude'] = requested_ny.geometry.y\n",
    "request_info_ny['longitude'] = requested_ny.geometry.x\n",
    "request_info_ny.columns = request_info_ny.columns.str.upper()"
   ]
  },
  {
   "cell_type": "code",
   "execution_count": null,
   "id": "e2e662e8-8f5d-4118-9176-179a2e3db085",
   "metadata": {
    "tags": []
   },
   "outputs": [],
   "source": [
    "fig, axarr = plt.subplots()\n",
    "requested_ny.plot(ax=axarr)\n",
    "ny_state.plot(ax=axarr, color='k', zorder=-10)"
   ]
  },
  {
   "cell_type": "markdown",
   "id": "98095ace-0836-4d83-8a6d-aa0a4cc8d4d9",
   "metadata": {},
   "source": [
    "# Schools in New York"
   ]
  },
  {
   "cell_type": "code",
   "execution_count": null,
   "id": "0117d25c-dbe0-449d-a03c-d1a0f3f1d479",
   "metadata": {
    "tags": []
   },
   "outputs": [],
   "source": [
    "# Access locations of public schools from https://hifld-geoplatform.opendata.arcgis.com/datasets/geoplatform::public-schools/about\n",
    "schools = gpd.read_file('s3://carbonplan-climate-impacts/climate-risk-comparison/location-selection/structures/ny/PublicSchools.shp')"
   ]
  },
  {
   "cell_type": "code",
   "execution_count": null,
   "id": "ee7d7fcf-e3be-484e-b665-9c2ef902c1c0",
   "metadata": {
    "tags": []
   },
   "outputs": [],
   "source": [
    "ds = pygmt.datasets.load_earth_relief(\n",
    "    resolution=\"01s\", region=[285.71, 286.61, 40.47, 40.97]\n",
    "            ).to_dataset()"
   ]
  },
  {
   "cell_type": "code",
   "execution_count": null,
   "id": "88e7e79d-41e3-45bb-bb43-90612f017a89",
   "metadata": {
    "tags": []
   },
   "outputs": [],
   "source": [
    "ny_schools = schools[schools['STATE']=='NY']\n",
    "nyc_schools = ny_schools[ny_schools['COUNTY'].isin(['QUEENS', 'KINGS', 'BRONX', 'RICHMOND', 'NEW YORK'])]\n",
    "nyc_schools_locations = nyc_schools.to_crs('epsg:4326').get_coordinates()\n",
    "y = xr.DataArray(nyc_schools_locations['y'].values, dims=['locations'])\n",
    "x = xr.DataArray(nyc_schools_locations['x'].values, dims=['locations'])\n",
    "elev_schools = ds.sel(lon=x+360, lat=y, method='nearest').load()\n",
    "nyc_schools['elevation'] = elev_schools.elevation.values\n",
    "elementary=nyc_schools[nyc_schools['LEVEL_']=='ELEMENTARY']\n",
    "# qaqc for improperly coded schools, filtering out schools that end in high school or don't start in early grades\n",
    "elementary = elementary[elementary['ST_GRADE'].isin(['PK', 'KG','01', '02'])]\n",
    "elementary = elementary[elementary['END_GRADE'].isin(['02', '03', '04', '05', '06', '07', '08'])]\n",
    "# drop addresses that appear twice because a single building houses multiple schools\n",
    "elementary = elementary.drop_duplicates(subset='ADDRESS').to_crs('epsg:4326')\n",
    "# select only schools with an elevation below 10 m\n",
    "elementary = elementary[elementary['elevation']<10]"
   ]
  },
  {
   "cell_type": "code",
   "execution_count": null,
   "id": "6db4fe0e-6ddb-42d5-9964-a918df1aa722",
   "metadata": {
    "tags": []
   },
   "outputs": [],
   "source": [
    "df = gpd.read_file(geodatasets.get_path(\"nybb\"))\n",
    "df = df.to_crs('epsg:4326')"
   ]
  },
  {
   "cell_type": "code",
   "execution_count": null,
   "id": "671b81d2-a726-4a4d-b83a-1d46cfc1e73d",
   "metadata": {
    "tags": []
   },
   "outputs": [],
   "source": [
    "ax = df.plot(figsize=(10, 10), alpha=0.5, edgecolor=\"k\")\n",
    "elementary.sort_values('ENROLLMENT', ascending=False).plot(ax=ax)\n",
    "ax.set_title('Elevation (m) - All elementary schools below 10 m elevation')"
   ]
  },
  {
   "cell_type": "code",
   "execution_count": null,
   "id": "0c62ef31-6e37-4faf-b227-dde8a25eb832",
   "metadata": {},
   "outputs": [],
   "source": [
    "# Append the nyc school locations onto the new york post office locations collected above"
   ]
  },
  {
   "cell_type": "code",
   "execution_count": null,
   "id": "b25fd384-c2ab-4b01-b77c-90b6de78113f",
   "metadata": {
    "tags": []
   },
   "outputs": [],
   "source": [
    "requested_schools = elementary[['ADDRESS', 'CITY', 'STATE', 'ZIP']]\n",
    "requested_schools['LATITUDE'] = elementary.geometry.y\n",
    "requested_schools['LONGITUDE'] = elementary.geometry.x\n",
    "requested_schools = requested_schools.rename({'ZIP': 'ZIPCODE'}, axis=1)"
   ]
  },
  {
   "cell_type": "code",
   "execution_count": null,
   "id": "d306ced1-e5ff-4522-890e-408390fc9f9b",
   "metadata": {
    "tags": []
   },
   "outputs": [],
   "source": [
    "request_info_ny = pd.concat([request_info_ny, requested_schools])"
   ]
  },
  {
   "cell_type": "code",
   "execution_count": null,
   "id": "cac6a0e2-a447-45ab-aeee-87dd1e138a3d",
   "metadata": {
    "tags": []
   },
   "outputs": [],
   "source": [
    "request_info_ny['ADDRESS'] = request_info_ny['ADDRESS'].str.upper()\n",
    "request_info_ny['CITY'] = request_info_ny['CITY'].str.upper()\n",
    "request_info_ny.reset_index(drop=True).to_csv('ny-flood.csv')"
   ]
  },
  {
   "cell_type": "code",
   "execution_count": null,
   "id": "f39c39cb-a1ff-4e97-a6a8-af4fd44dad5c",
   "metadata": {},
   "outputs": [],
   "source": []
  }
 ],
 "metadata": {
  "kernelspec": {
   "display_name": "impacts-impacts-extreme-heat",
   "language": "python",
   "name": "conda-env-impacts-impacts-extreme-heat-py"
  },
  "language_info": {
   "codemirror_mode": {
    "name": "ipython",
    "version": 3
   },
   "file_extension": ".py",
   "mimetype": "text/x-python",
   "name": "python",
   "nbconvert_exporter": "python",
   "pygments_lexer": "ipython3",
   "version": "3.10.13"
  }
 },
 "nbformat": 4,
 "nbformat_minor": 5
}
